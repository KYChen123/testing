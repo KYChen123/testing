{
 "cells": [
  {
   "cell_type": "markdown",
   "metadata": {},
   "source": [
    "# First project\n",
    "## search .ipynb in projects\n",
    "* number\n",
    "- file name"
   ]
  },
  {
   "cell_type": "code",
   "execution_count": 1,
   "metadata": {},
   "outputs": [],
   "source": [
    "import os"
   ]
  },
  {
   "cell_type": "code",
   "execution_count": 14,
   "metadata": {},
   "outputs": [],
   "source": [
    "files = os.listdir()"
   ]
  },
  {
   "cell_type": "code",
   "execution_count": 15,
   "metadata": {},
   "outputs": [
    {
     "data": {
      "text/plain": [
       "['.git',\n",
       " '.ipynb_checkpoints',\n",
       " '4-ways-cheer-up-depressed-cat.jpg',\n",
       " 'index.md',\n",
       " 'project1.ipynb',\n",
       " 'python_code.py',\n",
       " 'README.md',\n",
       " 'test.txt.txt',\n",
       " 'test1.ipynb',\n",
       " 'test2.ipynb',\n",
       " 'test3.txt',\n",
       " 'test4.ipynb',\n",
       " 'test_test.ipynb',\n",
       " '_config.yml']"
      ]
     },
     "execution_count": 15,
     "metadata": {},
     "output_type": "execute_result"
    }
   ],
   "source": [
    "files"
   ]
  },
  {
   "cell_type": "code",
   "execution_count": 16,
   "metadata": {},
   "outputs": [
    {
     "data": {
      "text/plain": [
       "14"
      ]
     },
     "execution_count": 16,
     "metadata": {},
     "output_type": "execute_result"
    }
   ],
   "source": [
    "len(files)"
   ]
  },
  {
   "cell_type": "code",
   "execution_count": 18,
   "metadata": {},
   "outputs": [
    {
     "data": {
      "text/plain": [
       "'4-ways-cheer-up-depressed-cat.jpg'"
      ]
     },
     "execution_count": 18,
     "metadata": {},
     "output_type": "execute_result"
    }
   ],
   "source": [
    "files[2]"
   ]
  },
  {
   "cell_type": "code",
   "execution_count": 12,
   "metadata": {},
   "outputs": [
    {
     "data": {
      "text/plain": [
       "['.ipynb_checkpoints',\n",
       " '20190315_Proton_MSI_data.xlsx',\n",
       " '34_MSIH_170_MSS_sample_list.txt',\n",
       " 'Combined_MSI_CRC_combine.txt',\n",
       " 'Combined_MSI_CRC_combine.xlsx',\n",
       " 'Combined_MSI_CRC_Proton_A.txt',\n",
       " 'Combined_MSI_CRC_Proton_B.txt',\n",
       " 'desktop.ini',\n",
       " 'GitHub',\n",
       " 'My Music',\n",
       " 'My Pictures',\n",
       " 'My Videos',\n",
       " 'Python Scripts',\n",
       " '自訂 Office 範本']"
      ]
     },
     "execution_count": 12,
     "metadata": {},
     "output_type": "execute_result"
    }
   ],
   "source": [
    "os.listdir(r'C:\\Users\\bonniechen\\Documents')"
   ]
  },
  {
   "cell_type": "code",
   "execution_count": 13,
   "metadata": {},
   "outputs": [
    {
     "name": "stdout",
     "output_type": "stream",
     "text": [
      "0\n",
      "1\n",
      "2\n",
      "3\n",
      "4\n",
      "5\n",
      "6\n",
      "7\n",
      "8\n",
      "9\n"
     ]
    }
   ],
   "source": [
    "for i in range(10):\n",
    "    print(i)"
   ]
  },
  {
   "cell_type": "code",
   "execution_count": 17,
   "metadata": {},
   "outputs": [
    {
     "name": "stdout",
     "output_type": "stream",
     "text": [
      ".git\n",
      ".ipynb_checkpoints\n",
      "4-ways-cheer-up-depressed-cat.jpg\n",
      "index.md\n",
      "project1.ipynb\n",
      "python_code.py\n",
      "README.md\n",
      "test.txt.txt\n",
      "test1.ipynb\n",
      "test2.ipynb\n",
      "test3.txt\n",
      "test4.ipynb\n",
      "test_test.ipynb\n",
      "_config.yml\n"
     ]
    }
   ],
   "source": [
    "for file in files:\n",
    "    print(file)"
   ]
  },
  {
   "cell_type": "code",
   "execution_count": 25,
   "metadata": {},
   "outputs": [
    {
     "name": "stdout",
     "output_type": "stream",
     "text": [
      "5 : project1.ipynb\n",
      "9 : test1.ipynb\n",
      "10 : test2.ipynb\n",
      "12 : test4.ipynb\n",
      "13 : test_test.ipynb\n",
      "5\n"
     ]
    }
   ],
   "source": [
    "i = 0\n",
    "j = 0\n",
    "for a in files :\n",
    "    i = i + 1\n",
    "    #if '.ipynb' in a:\n",
    "    if a.endswith('.ipynb'):\n",
    "        print(str(i) + ' : ' + a)\n",
    "        j = j + 1\n",
    "print(j)"
   ]
  },
  {
   "cell_type": "code",
   "execution_count": null,
   "metadata": {},
   "outputs": [],
   "source": []
  }
 ],
 "metadata": {
  "kernelspec": {
   "display_name": "Python 3",
   "language": "python",
   "name": "python3"
  },
  "language_info": {
   "codemirror_mode": {
    "name": "ipython",
    "version": 3
   },
   "file_extension": ".py",
   "mimetype": "text/x-python",
   "name": "python",
   "nbconvert_exporter": "python",
   "pygments_lexer": "ipython3",
   "version": "3.7.1"
  }
 },
 "nbformat": 4,
 "nbformat_minor": 2
}
